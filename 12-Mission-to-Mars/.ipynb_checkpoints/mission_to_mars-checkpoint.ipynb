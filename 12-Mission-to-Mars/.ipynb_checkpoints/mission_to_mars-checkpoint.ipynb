{
 "cells": [
  {
   "cell_type": "markdown",
   "metadata": {},
   "source": [
    "## NASA: Mars News"
   ]
  },
  {
   "cell_type": "code",
   "execution_count": 8,
   "metadata": {},
   "outputs": [],
   "source": [
    "# Import dependencies\n",
    "from splinter import Browser\n",
    "from bs4 import BeautifulSoup"
   ]
  },
  {
   "cell_type": "code",
   "execution_count": 9,
   "metadata": {},
   "outputs": [],
   "source": [
    "# Set path and browser for scraping JPL website\n",
    "executable_path = {'executable_path': 'chromedriver.exe'}\n",
    "browser = Browser('chrome', **executable_path, headless=False)\n",
    "\n",
    "url = 'https://mars.nasa.gov/news/?page=0&per_page=40&order=publish_date+desc%2Ccreated_at+desc&search=&category=19%2C165%2C184%2C204&blank_scope=Latest'\n",
    "browser.visit(url)\n",
    "\n",
    "html = browser.html\n",
    "soup= BeautifulSoup(html, 'html.parser') "
   ]
  },
  {
   "cell_type": "code",
   "execution_count": 10,
   "metadata": {},
   "outputs": [
    {
     "name": "stdout",
     "output_type": "stream",
     "text": [
      "--------------------\n",
      "Title: NASA's Mars 2020 Will Hunt for Microscopic Fossils\n",
      "\n",
      "Teaser: A new paper identifies a ring of minerals at the rover's landing site that are ideal for fossilizing microbial life.\n",
      "--------------------\n",
      "Title: With Mars Methane Mystery Unsolved, Curiosity Serves Scientists a New One: Oxygen\n",
      "\n",
      "Teaser: For the first time in the history of space exploration, scientists have measured the seasonal changes in the gases that fill the air directly above the surface of Gale Crater on Mars. \n",
      "--------------------\n",
      "Title: NASA's Mars 2020 Heads Into the Test Chamber\n",
      "\n",
      "Teaser: In this time-lapse video taken at JPL, engineers move the Mars 2020 rover into a large vacuum chamber for testing in Mars-like environmental conditions.\n",
      "--------------------\n",
      "Title: Screening Soon: 'The Pathfinders' Trains Lens on Mars\n",
      "\n",
      "Teaser: With the Mars 2020 mission ramping up, the documentary — the first of four about past JPL missions to the Red Planet to be shown at Caltech — tells a gripping backstory.\n",
      "--------------------\n",
      "Title: InSight's 'Mole' Team Peers into the Pit\n",
      "\n",
      "Teaser: Efforts to save the heat probe continue.\n",
      "--------------------\n",
      "Title: Common Questions about InSight's 'Mole'\n",
      "\n",
      "Teaser: There's a new plan to get InSight's \"mole\" moving again. The following Q&As with two members of the team answer some of the most common questions about the burrowing device, part of a science instrument called the Heat Flow and Physical Properties Package (HP3).\n",
      "--------------------\n",
      "Title: Mars 2020 Stands on Its Own Six Wheels\n",
      "\n",
      "Teaser: In time-lapse video, taken at JPL, captures the first time NASA's Mars 2020 rover carries its full weight on its legs and wheels.\n",
      "--------------------\n",
      "Title: New Selfie Shows Curiosity, the Mars Chemist\n",
      "\n",
      "Teaser: The NASA rover performed a special chemistry experiment at the location captured in its newest self-portrait.\n",
      "--------------------\n",
      "Title: Naming a NASA Mars Rover Can Change Your Life\n",
      "\n",
      "Teaser: Want to name the robotic scientist NASA is sending to Mars in 2020? The student who named Curiosity — the rover currently exploring Mars — will tell you this is an opportunity worth taking.\n",
      "--------------------\n",
      "Title: Mars 2020 Unwrapped and Ready for More Testing\n",
      "\n",
      "Teaser: In time-lapse video, bunny-suited engineers remove the inner layer of protective foil on NASA's Mars 2020 rover after it was relocated for testing.\n",
      "--------------------\n",
      "Title: HiRISE Views NASA's InSight and Curiosity on Mars\n",
      "\n",
      "Teaser: New images taken from space offer the clearest orbital glimpse yet of InSight as well as a view of Curiosity rolling along.\n",
      "--------------------\n",
      "Title: NASA's Curiosity Rover Finds an Ancient Oasis on Mars\n",
      "\n",
      "Teaser: New evidence suggests salty, shallow ponds once dotted a Martian crater — a sign of the planet's drying climate.\n",
      "--------------------\n",
      "Title: NASA's Mars 2020 Rover Tests Descent-Stage Separation\n",
      "\n",
      "Teaser: A crane lifts the rocket-powered descent stage away from NASA's Mars 2020 rover after technicians tested the pyrotechnic charges that separate the two spacecraft.\n",
      "--------------------\n",
      "Title: NASA's Push to Save the Mars InSight Lander's Heat Probe\n",
      "\n",
      "Teaser: The scoop on the end of the spacecraft's robotic arm will be used to 'pin' the mole against the wall of its hole.\n",
      "--------------------\n",
      "Title: NASA's InSight 'Hears' Peculiar Sounds on Mars\n",
      "\n",
      "Teaser: Listen to the marsquakes and other, less-expected sounds that the Mars lander has been detecting.\n",
      "--------------------\n",
      "Title: NASA Mars Mission Connects With Bosnian and Herzegovinian Town\n",
      "\n",
      "Teaser: A letter from NASA was presented to the mayor of Jezero, Bosnia-Herzegovina, honoring the connection between the town and Jezero Crater, the Mars 2020 rover landing site.\n",
      "--------------------\n",
      "Title: Deadline Closing for Names to Fly on NASA's Next Mars Rover\n",
      "\n",
      "Teaser: You have until Sept. 30 to send your names to Mars aboard the Mars 2020 rover. \n",
      "--------------------\n",
      "Title: NASA Wins Two Emmy Awards for Interactive Mission Coverage\n",
      "\n",
      "Teaser: NASA-JPL's coverage of the Mars InSight landing earns one of the two wins, making this the NASA center's second Emmy.\n",
      "--------------------\n",
      "Title: NASA's Mars 2020 Comes Full Circle\n",
      "\n",
      "Teaser: Aiming to pinpoint the Martian vehicle's center of gravity, engineers took NASA's 2,300-pound Mars 2020 rover for a spin in the clean room at JPL. \n",
      "--------------------\n",
      "Title: NASA Invites Students to Name Mars 2020 Rover\n",
      "\n",
      "Teaser: Through Nov. 1, K-12 students in the U.S. are encouraged to enter an essay contest to name NASA's next Mars rover.\n",
      "--------------------\n",
      "Title: NASA's Mars Helicopter Attached to Mars 2020 Rover \n",
      "\n",
      "Teaser: The helicopter will be first aircraft to perform flight tests on another planet.\n",
      "--------------------\n",
      "Title: What's Mars Solar Conjunction, and Why Does It Matter?\n",
      "\n",
      "Teaser: NASA spacecraft at Mars are going to be on their own for a few weeks when the Sun comes between Mars and Earth, interrupting communications.\n",
      "--------------------\n",
      "Title: Scientists Explore Outback as Testbed for Mars \n",
      "\n",
      "Teaser: Australia provides a great place for NASA's Mars 2020 and the ESA-Roscosmos ExoMars scientists to hone techniques in preparation for searching for signs ancient life on Mars.\n",
      "--------------------\n",
      "Title: NASA-JPL Names 'Rolling Stones Rock' on Mars\n",
      "\n",
      "Teaser: NASA's Mars InSight mission honored one of the biggest bands of all time at Pasadena concert.\n",
      "--------------------\n",
      "Title: Robotic Toolkit Added to NASA's Mars 2020 Rover\n",
      "\n",
      "Teaser: The bit carousel, which lies at the heart of the rover's Sample Caching System, is now aboard NASA's newest rover. \n",
      "--------------------\n",
      "Title: Space Samples Link NASA's Apollo 11 and Mars 2020\n",
      "\n",
      "Teaser: While separated by half a century, NASA's Apollo 11 and Mars 2020 missions share the same historic goal: returning samples to Earth.\n",
      "--------------------\n",
      "Title: Small Satellite Mission of the Year\n",
      "\n",
      "Teaser: The first interplanetary CubeSats were recognized by the engineering community with the 2019 Small Satellite Mission of the Year award.\n",
      "--------------------\n",
      "Title: NASA 'Optometrists' Verify Mars 2020 Rover's 20/20 Vision\n",
      "\n",
      "Teaser: Mars 2020 rover underwent an eye exam after several cameras were installed on the rover.\n",
      "--------------------\n",
      "Title: New Finds for Mars Rover, Seven Years After Landing\n",
      "\n",
      "Teaser: NASA's Curiosity rover is discovering odd rocks halfway into a region called the \"clay-bearing unit.\"\n",
      "--------------------\n",
      "Title: MEDLI2 Installation on Mars 2020 Aeroshell Begins\n",
      "\n",
      "Teaser: Hardware installed onto NASA's Mars 2020 entry vehicle this week will help to increase the safety of future Mars landings.\n",
      "--------------------\n",
      "Title: NASA's Mars 2020 Rover Does Biceps Curls \n",
      "\n",
      "Teaser: In this time-lapse video, the robotic arm on NASA's Mars 2020 rover maneuvers its 88-pound (40-kilogram) sensor-laden turret as it moves from a deployed to stowed configuration.\n",
      "--------------------\n",
      "Title: Fueling of NASA's Mars 2020 Rover Power System Begins\n",
      "\n",
      "Teaser: NASA gives the go-ahead to fuel the Mars 2020 rover's Multi-Mission Radioisotope Thermoelectric Generator, which will power rover and help keep it warm while exploring Mars.\n",
      "--------------------\n",
      "Title: What Does a Marsquake Look Like?\n",
      "\n",
      "Teaser: InSight scientists used a special \"shake room\" to demonstrate the differences between quakes on Earth, the Moon and Mars.\n",
      "--------------------\n",
      "Title: Mars 2020 Rover: T-Minus One Year and Counting \n",
      "\n",
      "Teaser: The launch period for NASA's next rover, Mars 2020, opens exactly one year from today, July 17, 2020, and extends through Aug. 5, 2020.\n",
      "--------------------\n",
      "Title: NASA Racks Up Two Emmy Nominations for Mission Coverage\n",
      "\n",
      "Teaser: JPL's coverage of the Mars InSight mission is among the efforts that will be up for an award in mid-September.\n",
      "--------------------\n",
      "Title: Want to Colonize Mars? Aerogel Could Help\n",
      "\n",
      "Teaser: Researchers are studying whether a wonder material used in Mars rovers could help warm parts of the Red Planet rich in water ice.\n",
      "--------------------\n",
      "Title: A Rover Pit Stop at JPL\n",
      "\n",
      "Teaser: Working like a finely honed machine, a team of engineers in this time-lapse video clip install test wheels on another finely honed machine: NASA's Mars 2020 rover.\n",
      "--------------------\n",
      "Title: Mars 2020 Rover Gets a Super Instrument\n",
      "\n",
      "Teaser: With its rock-zapping laser, the SuperCam will enable the science team to identify the chemical and mineral makeup of its targets on the Red Planet.\n",
      "--------------------\n",
      "Title: A Neil Armstrong for Mars: Landing the Mars 2020 Rover\n",
      "\n",
      "Teaser: NASA's newest rover will have an autopilot called Terrain-Relative Navigation.\n",
      "--------------------\n",
      "Title: NASA's InSight Uncovers the 'Mole' \n",
      "\n",
      "Teaser: The lander's robotic arm has successfully removed a piece of hardware blocking the view of its digging device in order to help with recovery efforts.\n"
     ]
    }
   ],
   "source": [
    "# Retrieve parent divs for all articles\n",
    "results = soup.find_all('li', class_='slide')\n",
    "\n",
    "# Loop over results to get article data\n",
    "for result in results:\n",
    "    \n",
    "    try:\n",
    "        # Scrape the article header\n",
    "        title = result.find('div', class_='content_title').text\n",
    "\n",
    "        # Scrape the paragraph text\n",
    "        para_text = result.find('div', class_='article_teaser_body').text\n",
    "\n",
    "        if (title):\n",
    "            print('--------------------')\n",
    "            print(f'Title: {title}')\n",
    "            print(f'')\n",
    "            print(f'Teaser: {para_text}')\n",
    "\n",
    "    except AttributeError as e:\n",
    "        print(e)\n"
   ]
  },
  {
   "cell_type": "markdown",
   "metadata": {},
   "source": [
    "## JPL: Featured Mars Space Image"
   ]
  },
  {
   "cell_type": "code",
   "execution_count": 4,
   "metadata": {},
   "outputs": [],
   "source": [
    "# Import dependencies\n",
    "from splinter import Browser\n",
    "from bs4 import BeautifulSoup"
   ]
  },
  {
   "cell_type": "code",
   "execution_count": 5,
   "metadata": {},
   "outputs": [],
   "source": [
    "# Set path and browser for scraping JPL website\n",
    "executable_path = {'executable_path': 'chromedriver.exe'}\n",
    "browser = Browser('chrome', **executable_path, headless=False)\n",
    "\n",
    "url = 'https://www.jpl.nasa.gov/spaceimages/?search=&category=Mars'\n",
    "browser.visit(url)\n",
    "\n",
    "html = browser.html\n",
    "soup = BeautifulSoup(html, 'html.parser')"
   ]
  },
  {
   "cell_type": "code",
   "execution_count": 6,
   "metadata": {},
   "outputs": [
    {
     "data": {
      "text/plain": [
       "'https://www.jpl.nasa.gov/spaceimages/images/mediumsize/PIA16613_ip.jpg'"
      ]
     },
     "execution_count": 6,
     "metadata": {},
     "output_type": "execute_result"
    }
   ],
   "source": [
    "# Featured image content is in the footer\n",
    "footer = soup.find('footer')\n",
    "feature_image_url = f'https://www.jpl.nasa.gov' + footer.find('a')['data-fancybox-href']\n",
    "\n",
    "feature_image_url"
   ]
  },
  {
   "cell_type": "markdown",
   "metadata": {},
   "source": [
    "## Twitter: Mars Weather"
   ]
  },
  {
   "cell_type": "code",
   "execution_count": 11,
   "metadata": {},
   "outputs": [],
   "source": [
    "# Import dependencies. Create executable path and browser.\n",
    "from bs4 import BeautifulSoup\n",
    "import requests\n",
    "\n",
    "executable_path = {'executable_path': 'chromedriver.exe'}\n",
    "browser = Browser('chrome', **executable_path, headless=False)\n",
    "\n",
    "url = 'https://twitter.com/marswxreport?lang=en'\n",
    "browser.visit(url)\n",
    "\n",
    "html = browser.html\n",
    "soup = BeautifulSoup(html, 'html.parser')"
   ]
  },
  {
   "cell_type": "code",
   "execution_count": 12,
   "metadata": {},
   "outputs": [
    {
     "name": "stdout",
     "output_type": "stream",
     "text": [
      "--------------------\n",
      "InSight sol 342 (2019-11-13) low -99.9ºC (-147.8ºF) high -23.3ºC (-9.9ºF)\n",
      "winds from the SW at 5.2 m/s (11.7 mph) gusting to 20.5 m/s (46.0 mph)\n",
      "pressure at 6.90 hPapic.twitter.com/NO4iCrXgrl\n",
      "--------------------\n",
      "InSight sol 341 (2019-11-11) low -100.2ºC (-148.4ºF) high -23.1ºC (-9.7ºF)\n",
      "winds from the SSE at 5.6 m/s (12.4 mph) gusting to 21.7 m/s (48.6 mph)\n",
      "pressure at 6.80 hPapic.twitter.com/EpR7UZmflJ\n",
      "--------------------\n",
      "InSight sol 340 (2019-11-10) low -101.0ºC (-149.8ºF) high -24.4ºC (-12.0ºF)\n",
      "winds from the SSE at 5.3 m/s (11.9 mph) gusting to 20.4 m/s (45.6 mph)\n",
      "pressure at 6.90 hPapic.twitter.com/5m82oQ9M6z\n",
      "--------------------\n",
      "InSight sol 339 (2019-11-09) low -99.9ºC (-147.8ºF) high -23.4ºC (-10.2ºF)\n",
      "winds from the SSE at 5.1 m/s (11.4 mph) gusting to 20.8 m/s (46.5 mph)\n",
      "pressure at 6.90 hPa\n",
      "--------------------\n",
      "InSight sol 338 (2019-11-08) low -102.5ºC (-152.5ºF) high -24.0ºC (-11.1ºF)\n",
      "winds from the SSE at 5.3 m/s (11.9 mph) gusting to 19.6 m/s (43.9 mph)\n",
      "pressure at 6.90 hPapic.twitter.com/VxWNunPM5q\n",
      "--------------------\n",
      "InSight sol 337 (2019-11-07) low -101.8ºC (-151.2ºF) high -24.0ºC (-11.3ºF)\n",
      "winds from the SSE at 4.9 m/s (11.0 mph) gusting to 21.2 m/s (47.5 mph)\n",
      "pressure at 6.90 hPa\n",
      "--------------------\n",
      "InSight sol 336 (2019-11-06) low -101.4ºC (-150.6ºF) high -24.0ºC (-11.2ºF)\n",
      "winds from the SSE at 4.7 m/s (10.6 mph) gusting to 18.7 m/s (41.9 mph)\n",
      "pressure at 6.90 hPapic.twitter.com/RIAb2fzSY4\n",
      "--------------------\n",
      "InSight sol 335 (2019-11-05) low -100.6ºC (-149.1ºF) high -24.3ºC (-11.8ºF)\n",
      "winds from the SSE at 4.9 m/s (10.9 mph) gusting to 19.9 m/s (44.5 mph)\n",
      "pressure at 6.90 hPa\n",
      "--------------------\n",
      "InSight sol 334 (2019-11-04) low -100.0ºC (-148.1ºF) high -23.8ºC (-10.8ºF)\n",
      "winds from the SSW at 5.1 m/s (11.4 mph) gusting to 19.9 m/s (44.4 mph)\n",
      "pressure at 7.00 hPapic.twitter.com/D4EX1MROay\n",
      "--------------------\n",
      "InSight sol 333 (2019-11-03) low -100.8ºC (-149.4ºF) high -25.8ºC (-14.4ºF)\n",
      "winds from the SSW at 4.9 m/s (11.0 mph) gusting to 18.0 m/s (40.4 mph)\n",
      "pressure at 6.90 hPa\n",
      "--------------------\n",
      "InSight sol 332 (2019-11-02) low -99.8ºC (-147.7ºF) high -25.2ºC (-13.3ºF)\n",
      "winds from the SSW at 4.1 m/s (9.2 mph) gusting to 18.7 m/s (41.9 mph)\n",
      "pressure at 6.90 hPa\n",
      "--------------------\n",
      "InSight sol 331 (2019-11-01) low -100.9ºC (-149.6ºF) high -24.6ºC (-12.3ºF)\n",
      "winds from the SSE at 5.2 m/s (11.6 mph) gusting to 18.5 m/s (41.4 mph)\n",
      "pressure at 7.00 hPapic.twitter.com/jicxvaUZh1\n",
      "--------------------\n",
      "InSight sol 330 (2019-10-31) low -101.8ºC (-151.3ºF) high -24.8ºC (-12.6ºF)\n",
      "winds from the SSE at 5.4 m/s (12.2 mph) gusting to 20.8 m/s (46.5 mph)\n",
      "pressure at 7.00 hPapic.twitter.com/nMo54muCBo\n",
      "--------------------\n",
      "InSight sol 329 (2019-10-30) low -101.5ºC (-150.7ºF) high -25.0ºC (-13.0ºF)\n",
      "winds from the SSE at 5.2 m/s (11.6 mph) gusting to 19.2 m/s (42.8 mph)\n",
      "pressure at 7.00 hPapic.twitter.com/LqWHBwF74A\n",
      "--------------------\n",
      "InSight sol 328 (2019-10-29) low -102.3ºC (-152.2ºF) high -25.2ºC (-13.3ºF)\n",
      "winds from the SSE at 4.9 m/s (10.9 mph) gusting to 18.3 m/s (40.9 mph)\n",
      "pressure at 7.00 hPa\n",
      "--------------------\n",
      "InSight sol 327 (2019-10-28) low -102.6ºC (-152.7ºF) high -25.3ºC (-13.5ºF)\n",
      "winds from the SSE at 5.6 m/s (12.5 mph) gusting to 19.6 m/s (43.8 mph)\n",
      "pressure at 7.00 hPapic.twitter.com/B3xpG54HEx\n",
      "--------------------\n",
      "InSight sol 326 (2019-10-27) low -101.4ºC (-150.5ºF) high -23.7ºC (-10.7ºF)\n",
      "winds from the SSE at 5.2 m/s (11.5 mph) gusting to 18.2 m/s (40.8 mph)\n",
      "pressure at 7.00 hPapic.twitter.com/zSxE0oiy1D\n",
      "--------------------\n",
      "InSight sol 325 (2019-10-26) low -102.0ºC (-151.7ºF) high -24.0ºC (-11.2ºF)\n",
      "winds from the SSE at 4.9 m/s (11.0 mph) gusting to 19.1 m/s (42.7 mph)\n",
      "pressure at 7.00 hPapic.twitter.com/P20JfRjcVi\n",
      "--------------------\n",
      "InSight sol 324 (2019-10-25) low -102.4ºC (-152.3ºF) high -24.8ºC (-12.6ºF)\n",
      "winds from the SSE at 5.4 m/s (12.0 mph) gusting to 18.1 m/s (40.5 mph)\n",
      "pressure at 7.00 hPapic.twitter.com/goHqhpyD8O\n"
     ]
    }
   ],
   "source": [
    "# Find all contents that include the \n",
    "contents = soup.find_all('div', class_='js-tweet-text-container')\n",
    "\n",
    "for content in contents:    \n",
    "    mars_weather = content.find('p', class_='TweetTextSize').text\n",
    "    if 'InSight' in mars_weather:\n",
    "            \n",
    "        print('--------------------')\n",
    "        print(mars_weather)\n",
    "    else:\n",
    "        pass    "
   ]
  },
  {
   "cell_type": "markdown",
   "metadata": {},
   "source": [
    "## Space Facts: Mars"
   ]
  },
  {
   "cell_type": "code",
   "execution_count": 33,
   "metadata": {},
   "outputs": [],
   "source": [
    "# Import dependency\n",
    "import pandas as pd"
   ]
  },
  {
   "cell_type": "code",
   "execution_count": 34,
   "metadata": {},
   "outputs": [
    {
     "data": {
      "text/plain": [
       "[                      0                              1\n",
       " 0  Equatorial Diameter:                       6,792 km\n",
       " 1       Polar Diameter:                       6,752 km\n",
       " 2                 Mass:  6.39 × 10^23 kg (0.11 Earths)\n",
       " 3                Moons:            2 (Phobos & Deimos)\n",
       " 4       Orbit Distance:       227,943,824 km (1.38 AU)\n",
       " 5         Orbit Period:           687 days (1.9 years)\n",
       " 6  Surface Temperature:                   -87 to -5 °C\n",
       " 7         First Record:              2nd millennium BC\n",
       " 8          Recorded By:           Egyptian astronomers,\n",
       "   Mars - Earth Comparison             Mars            Earth\n",
       " 0               Diameter:         6,779 km        12,742 km\n",
       " 1                   Mass:  6.39 × 10^23 kg  5.97 × 10^24 kg\n",
       " 2                  Moons:                2                1\n",
       " 3      Distance from Sun:   227,943,824 km   149,598,262 km\n",
       " 4         Length of Year:   687 Earth days      365.24 days\n",
       " 5            Temperature:    -153 to 20 °C      -88 to 58°C,\n",
       "                       0                              1\n",
       " 0  Equatorial Diameter:                       6,792 km\n",
       " 1       Polar Diameter:                       6,752 km\n",
       " 2                 Mass:  6.39 × 10^23 kg (0.11 Earths)\n",
       " 3                Moons:            2 (Phobos & Deimos)\n",
       " 4       Orbit Distance:       227,943,824 km (1.38 AU)\n",
       " 5         Orbit Period:           687 days (1.9 years)\n",
       " 6  Surface Temperature:                   -87 to -5 °C\n",
       " 7         First Record:              2nd millennium BC\n",
       " 8          Recorded By:           Egyptian astronomers]"
      ]
     },
     "execution_count": 34,
     "metadata": {},
     "output_type": "execute_result"
    }
   ],
   "source": [
    "# Retrieve table on the site with read_html\n",
    "table = pd.read_html('https://space-facts.com/mars/')\n",
    "table"
   ]
  },
  {
   "cell_type": "code",
   "execution_count": 50,
   "metadata": {},
   "outputs": [
    {
     "data": {
      "text/html": [
       "<div>\n",
       "<style scoped>\n",
       "    .dataframe tbody tr th:only-of-type {\n",
       "        vertical-align: middle;\n",
       "    }\n",
       "\n",
       "    .dataframe tbody tr th {\n",
       "        vertical-align: top;\n",
       "    }\n",
       "\n",
       "    .dataframe thead th {\n",
       "        text-align: right;\n",
       "    }\n",
       "</style>\n",
       "<table border=\"1\" class=\"dataframe\">\n",
       "  <thead>\n",
       "    <tr style=\"text-align: right;\">\n",
       "      <th></th>\n",
       "      <th></th>\n",
       "      <th>Value</th>\n",
       "    </tr>\n",
       "  </thead>\n",
       "  <tbody>\n",
       "    <tr>\n",
       "      <td>0</td>\n",
       "      <td>Equatorial Diameter:</td>\n",
       "      <td>6,792 km</td>\n",
       "    </tr>\n",
       "    <tr>\n",
       "      <td>1</td>\n",
       "      <td>Polar Diameter:</td>\n",
       "      <td>6,752 km</td>\n",
       "    </tr>\n",
       "    <tr>\n",
       "      <td>2</td>\n",
       "      <td>Mass:</td>\n",
       "      <td>6.39 × 10^23 kg (0.11 Earths)</td>\n",
       "    </tr>\n",
       "    <tr>\n",
       "      <td>3</td>\n",
       "      <td>Moons:</td>\n",
       "      <td>2 (Phobos &amp; Deimos)</td>\n",
       "    </tr>\n",
       "    <tr>\n",
       "      <td>4</td>\n",
       "      <td>Orbit Distance:</td>\n",
       "      <td>227,943,824 km (1.38 AU)</td>\n",
       "    </tr>\n",
       "    <tr>\n",
       "      <td>5</td>\n",
       "      <td>Orbit Period:</td>\n",
       "      <td>687 days (1.9 years)</td>\n",
       "    </tr>\n",
       "    <tr>\n",
       "      <td>6</td>\n",
       "      <td>Surface Temperature:</td>\n",
       "      <td>-87 to -5 °C</td>\n",
       "    </tr>\n",
       "    <tr>\n",
       "      <td>7</td>\n",
       "      <td>First Record:</td>\n",
       "      <td>2nd millennium BC</td>\n",
       "    </tr>\n",
       "    <tr>\n",
       "      <td>8</td>\n",
       "      <td>Recorded By:</td>\n",
       "      <td>Egyptian astronomers</td>\n",
       "    </tr>\n",
       "  </tbody>\n",
       "</table>\n",
       "</div>"
      ],
      "text/plain": [
       "                                                 Value\n",
       "0  Equatorial Diameter:                       6,792 km\n",
       "1       Polar Diameter:                       6,752 km\n",
       "2                 Mass:  6.39 × 10^23 kg (0.11 Earths)\n",
       "3                Moons:            2 (Phobos & Deimos)\n",
       "4       Orbit Distance:       227,943,824 km (1.38 AU)\n",
       "5         Orbit Period:           687 days (1.9 years)\n",
       "6  Surface Temperature:                   -87 to -5 °C\n",
       "7         First Record:              2nd millennium BC\n",
       "8          Recorded By:           Egyptian astronomers"
      ]
     },
     "execution_count": 50,
     "metadata": {},
     "output_type": "execute_result"
    }
   ],
   "source": [
    "df = table[2]\n",
    "df.columns=['','Value']\n",
    "df"
   ]
  },
  {
   "cell_type": "code",
   "execution_count": 52,
   "metadata": {},
   "outputs": [
    {
     "data": {
      "text/plain": [
       "'<table border=\"1\" class=\"dataframe\">\\n  <thead>\\n    <tr style=\"text-align: right;\">\\n      <th></th>\\n      <th>Value</th>\\n    </tr>\\n  </thead>\\n  <tbody>\\n    <tr>\\n      <td>Equatorial Diameter:</td>\\n      <td>6,792 km</td>\\n    </tr>\\n    <tr>\\n      <td>Polar Diameter:</td>\\n      <td>6,752 km</td>\\n    </tr>\\n    <tr>\\n      <td>Mass:</td>\\n      <td>6.39 × 10^23 kg (0.11 Earths)</td>\\n    </tr>\\n    <tr>\\n      <td>Moons:</td>\\n      <td>2 (Phobos &amp; Deimos)</td>\\n    </tr>\\n    <tr>\\n      <td>Orbit Distance:</td>\\n      <td>227,943,824 km (1.38 AU)</td>\\n    </tr>\\n    <tr>\\n      <td>Orbit Period:</td>\\n      <td>687 days (1.9 years)</td>\\n    </tr>\\n    <tr>\\n      <td>Surface Temperature:</td>\\n      <td>-87 to -5 °C</td>\\n    </tr>\\n    <tr>\\n      <td>First Record:</td>\\n      <td>2nd millennium BC</td>\\n    </tr>\\n    <tr>\\n      <td>Recorded By:</td>\\n      <td>Egyptian astronomers</td>\\n    </tr>\\n  </tbody>\\n</table>'"
      ]
     },
     "execution_count": 52,
     "metadata": {},
     "output_type": "execute_result"
    }
   ],
   "source": [
    "html_table = df.to_html(index=False)\n",
    "html_table"
   ]
  },
  {
   "cell_type": "code",
   "execution_count": 44,
   "metadata": {},
   "outputs": [
    {
     "data": {
      "text/plain": [
       "'<table border=\"1\" class=\"dataframe\">  <thead>    <tr style=\"text-align: right;\">      <th></th>      <th>Value</th>    </tr>  </thead>  <tbody>    <tr>      <td>Equatorial Diameter:</td>      <td>6,792 km</td>    </tr>    <tr>      <td>Polar Diameter:</td>      <td>6,752 km</td>    </tr>    <tr>      <td>Mass:</td>      <td>6.39 × 10^23 kg (0.11 Earths)</td>    </tr>    <tr>      <td>Moons:</td>      <td>2 (Phobos &amp; Deimos)</td>    </tr>    <tr>      <td>Orbit Distance:</td>      <td>227,943,824 km (1.38 AU)</td>    </tr>    <tr>      <td>Orbit Period:</td>      <td>687 days (1.9 years)</td>    </tr>    <tr>      <td>Surface Temperature:</td>      <td>-87 to -5 °C</td>    </tr>    <tr>      <td>First Record:</td>      <td>2nd millennium BC</td>    </tr>    <tr>      <td>Recorded By:</td>      <td>Egyptian astronomers</td>    </tr>  </tbody></table>'"
      ]
     },
     "execution_count": 44,
     "metadata": {},
     "output_type": "execute_result"
    }
   ],
   "source": [
    "html_table.replace('\\n', '')"
   ]
  },
  {
   "cell_type": "code",
   "execution_count": 45,
   "metadata": {},
   "outputs": [],
   "source": [
    "df.to_html('table.html', index=False)"
   ]
  },
  {
   "cell_type": "markdown",
   "metadata": {},
   "source": [
    "## USGS: Mars Hemispheres"
   ]
  },
  {
   "cell_type": "code",
   "execution_count": 92,
   "metadata": {},
   "outputs": [],
   "source": [
    "# Import dependencies. Create executable path and browser.\n",
    "from bs4 import BeautifulSoup\n",
    "import requests\n",
    "\n",
    "executable_path = {'executable_path': 'chromedriver.exe'}\n",
    "browser = Browser('chrome', **executable_path, headless=False)\n",
    "\n",
    "url = 'https://astrogeology.usgs.gov/search/results?q=hemisphere+enhanced&k1=target&v1=Mars'\n",
    "browser.visit(url)\n",
    "\n",
    "html = browser.html\n",
    "soup = BeautifulSoup(html, 'html.parser')"
   ]
  },
  {
   "cell_type": "code",
   "execution_count": 93,
   "metadata": {},
   "outputs": [
    {
     "data": {
      "text/plain": [
       "[{'title': 'Cerberus Hemisphere Enhanced',\n",
       "  'image_url': 'http://astropedia.astrogeology.usgs.gov/download/Mars/Viking/cerberus_enhanced.tif/full.jpg'},\n",
       " {'title': 'Schiaparelli Hemisphere Enhanced',\n",
       "  'image_url': 'http://astropedia.astrogeology.usgs.gov/download/Mars/Viking/schiaparelli_enhanced.tif/full.jpg'},\n",
       " {'title': 'Syrtis Major Hemisphere Enhanced',\n",
       "  'image_url': 'http://astropedia.astrogeology.usgs.gov/download/Mars/Viking/syrtis_major_enhanced.tif/full.jpg'},\n",
       " {'title': 'Valles Marineris Hemisphere Enhanced',\n",
       "  'image_url': 'http://astropedia.astrogeology.usgs.gov/download/Mars/Viking/valles_marineris_enhanced.tif/full.jpg'}]"
      ]
     },
     "execution_count": 93,
     "metadata": {},
     "output_type": "execute_result"
    }
   ],
   "source": [
    "items = soup.find_all('div', class_='item')\n",
    "\n",
    "hemisphere_image_urls=[]\n",
    "\n",
    "usgs_url = 'https://astrogeology.usgs.gov/'\n",
    "\n",
    "for item in items:\n",
    "    \n",
    "    # Save name of the image\n",
    "    title = item.find('h3').text\n",
    "    \n",
    "    # Find the href to the corresponding image\n",
    "    image_href = item.find('a', class_='itemLink product-item')['href']\n",
    "    \n",
    "    # Complete the url to site that has the full resolution image link\n",
    "    new_link_url = usgs_url + image_href\n",
    "    \n",
    "    # Visit the new link the now complete link\n",
    "    browser.visit(new_link_url)\n",
    "    new_link_html = browser.html\n",
    "    \n",
    "    # Parse through the individual product site\n",
    "    soup = BeautifulSoup(new_link_html, 'html.parser')\n",
    "    \n",
    "    # Look for the full resolution image link\n",
    "    destination = soup.find('div', class_='downloads')\n",
    "    full_res_url = destination.find('a')['href']\n",
    "    \n",
    "    # Save results to the image_urls dictionary\n",
    "    hemisphere_image_urls.append({'title':title, 'image_url': full_res_url})\n",
    "    \n",
    "hemisphere_image_urls"
   ]
  }
 ],
 "metadata": {
  "kernelspec": {
   "display_name": "Python [conda env:.conda-PythonData] *",
   "language": "python",
   "name": "conda-env-.conda-PythonData-py"
  },
  "language_info": {
   "codemirror_mode": {
    "name": "ipython",
    "version": 3
   },
   "file_extension": ".py",
   "mimetype": "text/x-python",
   "name": "python",
   "nbconvert_exporter": "python",
   "pygments_lexer": "ipython3",
   "version": "3.6.9"
  }
 },
 "nbformat": 4,
 "nbformat_minor": 2
}
